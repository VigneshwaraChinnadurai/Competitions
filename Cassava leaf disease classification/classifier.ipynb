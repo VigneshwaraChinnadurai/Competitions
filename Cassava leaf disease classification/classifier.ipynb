{
  "nbformat": 4,
  "nbformat_minor": 0,
  "metadata": {
    "kernelspec": {
      "display_name": "Python 3",
      "language": "python",
      "name": "python3"
    },
    "language_info": {
      "codemirror_mode": {
        "name": "ipython",
        "version": 3
      },
      "file_extension": ".py",
      "mimetype": "text/x-python",
      "name": "python",
      "nbconvert_exporter": "python",
      "pygments_lexer": "ipython3",
      "version": "3.6.10"
    },
    "colab": {
      "name": "classifier.ipynb",
      "provenance": [],
      "include_colab_link": true
    }
  },
  "cells": [
    {
      "cell_type": "markdown",
      "metadata": {
        "id": "view-in-github",
        "colab_type": "text"
      },
      "source": [
        "<a href=\"https://colab.research.google.com/github/VigneshwaraChinnadurai/Competitions/blob/master/Cassava%20leaf%20disease%20classification/classifier.ipynb\" target=\"_parent\"><img src=\"https://colab.research.google.com/assets/colab-badge.svg\" alt=\"Open In Colab\"/></a>"
      ]
    },
    {
      "cell_type": "code",
      "metadata": {
        "id": "3lpMe4NIqtfg"
      },
      "source": [
        "#pip install pillow"
      ],
      "execution_count": null,
      "outputs": []
    },
    {
      "cell_type": "code",
      "metadata": {
        "id": "8Gin3Fitqtfg",
        "outputId": "a1c4edf5-32f2-4dce-f873-95bcb1dc220e"
      },
      "source": [
        "import keras \n",
        "from keras.layers import Conv2D, MaxPooling2D, BatchNormalization\n",
        "from keras.layers import Dropout, Flatten, Dense\n",
        "from keras.models import Sequential\n",
        "\n",
        "import warnings\n",
        "warnings.filterwarnings('ignore')"
      ],
      "execution_count": null,
      "outputs": [
        {
          "output_type": "stream",
          "text": [
            "C:\\ProgramData\\Anaconda3\\envs\\keras_gpu\\lib\\site-packages\\h5py\\__init__.py:36: FutureWarning: Conversion of the second argument of issubdtype from `float` to `np.floating` is deprecated. In future, it will be treated as `np.float64 == np.dtype(float).type`.\n",
            "  from ._conv import register_converters as _register_converters\n",
            "Using TensorFlow backend.\n",
            "C:\\ProgramData\\Anaconda3\\envs\\keras_gpu\\lib\\site-packages\\tensorflow\\python\\framework\\dtypes.py:516: FutureWarning: Passing (type, 1) or '1type' as a synonym of type is deprecated; in a future version of numpy, it will be understood as (type, (1,)) / '(1,)type'.\n",
            "  _np_qint8 = np.dtype([(\"qint8\", np.int8, 1)])\n",
            "C:\\ProgramData\\Anaconda3\\envs\\keras_gpu\\lib\\site-packages\\tensorflow\\python\\framework\\dtypes.py:517: FutureWarning: Passing (type, 1) or '1type' as a synonym of type is deprecated; in a future version of numpy, it will be understood as (type, (1,)) / '(1,)type'.\n",
            "  _np_quint8 = np.dtype([(\"quint8\", np.uint8, 1)])\n",
            "C:\\ProgramData\\Anaconda3\\envs\\keras_gpu\\lib\\site-packages\\tensorflow\\python\\framework\\dtypes.py:518: FutureWarning: Passing (type, 1) or '1type' as a synonym of type is deprecated; in a future version of numpy, it will be understood as (type, (1,)) / '(1,)type'.\n",
            "  _np_qint16 = np.dtype([(\"qint16\", np.int16, 1)])\n",
            "C:\\ProgramData\\Anaconda3\\envs\\keras_gpu\\lib\\site-packages\\tensorflow\\python\\framework\\dtypes.py:519: FutureWarning: Passing (type, 1) or '1type' as a synonym of type is deprecated; in a future version of numpy, it will be understood as (type, (1,)) / '(1,)type'.\n",
            "  _np_quint16 = np.dtype([(\"quint16\", np.uint16, 1)])\n",
            "C:\\ProgramData\\Anaconda3\\envs\\keras_gpu\\lib\\site-packages\\tensorflow\\python\\framework\\dtypes.py:520: FutureWarning: Passing (type, 1) or '1type' as a synonym of type is deprecated; in a future version of numpy, it will be understood as (type, (1,)) / '(1,)type'.\n",
            "  _np_qint32 = np.dtype([(\"qint32\", np.int32, 1)])\n",
            "C:\\ProgramData\\Anaconda3\\envs\\keras_gpu\\lib\\site-packages\\tensorflow\\python\\framework\\dtypes.py:525: FutureWarning: Passing (type, 1) or '1type' as a synonym of type is deprecated; in a future version of numpy, it will be understood as (type, (1,)) / '(1,)type'.\n",
            "  np_resource = np.dtype([(\"resource\", np.ubyte, 1)])\n",
            "C:\\ProgramData\\Anaconda3\\envs\\keras_gpu\\lib\\site-packages\\tensorboard\\compat\\tensorflow_stub\\dtypes.py:541: FutureWarning: Passing (type, 1) or '1type' as a synonym of type is deprecated; in a future version of numpy, it will be understood as (type, (1,)) / '(1,)type'.\n",
            "  _np_qint8 = np.dtype([(\"qint8\", np.int8, 1)])\n",
            "C:\\ProgramData\\Anaconda3\\envs\\keras_gpu\\lib\\site-packages\\tensorboard\\compat\\tensorflow_stub\\dtypes.py:542: FutureWarning: Passing (type, 1) or '1type' as a synonym of type is deprecated; in a future version of numpy, it will be understood as (type, (1,)) / '(1,)type'.\n",
            "  _np_quint8 = np.dtype([(\"quint8\", np.uint8, 1)])\n",
            "C:\\ProgramData\\Anaconda3\\envs\\keras_gpu\\lib\\site-packages\\tensorboard\\compat\\tensorflow_stub\\dtypes.py:543: FutureWarning: Passing (type, 1) or '1type' as a synonym of type is deprecated; in a future version of numpy, it will be understood as (type, (1,)) / '(1,)type'.\n",
            "  _np_qint16 = np.dtype([(\"qint16\", np.int16, 1)])\n",
            "C:\\ProgramData\\Anaconda3\\envs\\keras_gpu\\lib\\site-packages\\tensorboard\\compat\\tensorflow_stub\\dtypes.py:544: FutureWarning: Passing (type, 1) or '1type' as a synonym of type is deprecated; in a future version of numpy, it will be understood as (type, (1,)) / '(1,)type'.\n",
            "  _np_quint16 = np.dtype([(\"quint16\", np.uint16, 1)])\n",
            "C:\\ProgramData\\Anaconda3\\envs\\keras_gpu\\lib\\site-packages\\tensorboard\\compat\\tensorflow_stub\\dtypes.py:545: FutureWarning: Passing (type, 1) or '1type' as a synonym of type is deprecated; in a future version of numpy, it will be understood as (type, (1,)) / '(1,)type'.\n",
            "  _np_qint32 = np.dtype([(\"qint32\", np.int32, 1)])\n",
            "C:\\ProgramData\\Anaconda3\\envs\\keras_gpu\\lib\\site-packages\\tensorboard\\compat\\tensorflow_stub\\dtypes.py:550: FutureWarning: Passing (type, 1) or '1type' as a synonym of type is deprecated; in a future version of numpy, it will be understood as (type, (1,)) / '(1,)type'.\n",
            "  np_resource = np.dtype([(\"resource\", np.ubyte, 1)])\n"
          ],
          "name": "stderr"
        }
      ]
    },
    {
      "cell_type": "code",
      "metadata": {
        "id": "T05FjzPaqtfh",
        "outputId": "a71b1d66-4ee0-4ef5-c6f9-168423827e6a"
      },
      "source": [
        "model = Sequential()  \n",
        "model.add(Conv2D(16, (3, 3), input_shape = (128, 128, 3),kernel_initializer='normal', activation='relu'))\n",
        "model.add(Conv2D(16, (3, 3),activation='relu'))\n",
        "model.add(MaxPooling2D(pool_size=(2, 2)))\n",
        "model.add(Dropout(0.3))\n",
        "\n",
        "model.add(Conv2D(32, (3, 3), border_mode='valid',activation='relu'))\n",
        "model.add(Conv2D(32, (3, 3),activation='relu'))\n",
        "model.add(MaxPooling2D(pool_size=(2, 2)))\n",
        "model.add(Dropout(0.3))\n",
        "\n",
        "model.add(Conv2D(128, (3, 3), border_mode='valid',activation='relu'))\n",
        "model.add(Conv2D(128, (3, 3),activation='relu'))\n",
        "model.add(BatchNormalization())\n",
        "model.add(MaxPooling2D(pool_size=(2, 2)))\n",
        "model.add(Dropout(0.4))\n",
        "\n",
        "model.add(Conv2D(128, (3, 3), border_mode='valid',activation='relu'))\n",
        "model.add(Conv2D(128, (3, 3),activation='relu'))\n",
        "model.add(BatchNormalization())\n",
        "model.add(MaxPooling2D(pool_size=(2, 2)))\n",
        "model.add(Dropout(0.4))\n",
        "\n",
        "model.add(Flatten())\n",
        "\n",
        "model.add(Dense(1024, activation='relu'))\n",
        "model.add(Dropout(0.5))\n",
        "model.add(Dense(5,activation='softmax'))\n",
        "\n",
        "ada = keras.optimizers.Adam(learning_rate=0.001, beta_1=0.9, beta_2=0.999, amsgrad=False)\n",
        "sgd = keras.optimizers.SGD(lr=0.05, decay=1e-6, momentum=0.9, nesterov=True)\n",
        "#model.compile(loss=\"mean_squared_error\", optimizer=sgd, metrics=['accuracy'])\n",
        "model.compile(loss=\"categorical_crossentropy\", optimizer='adam', metrics=['accuracy'])"
      ],
      "execution_count": null,
      "outputs": [
        {
          "output_type": "stream",
          "text": [
            "WARNING:tensorflow:From C:\\ProgramData\\Anaconda3\\envs\\keras_gpu\\lib\\site-packages\\keras\\backend\\tensorflow_backend.py:4070: The name tf.nn.max_pool is deprecated. Please use tf.nn.max_pool2d instead.\n",
            "\n"
          ],
          "name": "stdout"
        }
      ]
    },
    {
      "cell_type": "code",
      "metadata": {
        "id": "u1J00qUDqtfh"
      },
      "source": [
        "from keras.preprocessing.image import ImageDataGenerator\n",
        "train_datagen = ImageDataGenerator(shear_range = 0.2,\n",
        "                                   channel_shift_range = 0.2,\n",
        "                                   zoom_range = 0.2,\n",
        "                                   rotation_range=10,\n",
        "                                   validation_split=0.9,\n",
        "                                   horizontal_flip = True)\n",
        "\n",
        "test_datagen = ImageDataGenerator(validation_split=0.9)"
      ],
      "execution_count": null,
      "outputs": []
    },
    {
      "cell_type": "code",
      "metadata": {
        "id": "5QZdfgUOqtfh",
        "outputId": "a492a847-3dd7-42d7-d203-4d4a1e46fc72"
      },
      "source": [
        "training_set = train_datagen.flow_from_directory('train_images',\n",
        "                                                 target_size = (128, 128),\n",
        "                                                 batch_size = 16,\n",
        "                                                 shuffle=True,\n",
        "                                                 seed=101,\n",
        "                                                 #save_to_dir='Augumented/Train',\n",
        "                                                 #save_format='jpeg',\n",
        "                                                 interpolation='nearest',\n",
        "                                                 class_mode = 'categorical')\n",
        "\n",
        "test_set = test_datagen.flow_from_directory('eval_images',\n",
        "                                            target_size = (128, 128),\n",
        "                                            batch_size = 16,\n",
        "                                            shuffle=True,\n",
        "                                            seed=101,\n",
        "                                            #save_to_dir='Augumented/Test',\n",
        "                                            #save_format='jpeg',\n",
        "                                            interpolation='nearest',\n",
        "                                            class_mode = 'categorical')\n"
      ],
      "execution_count": null,
      "outputs": [
        {
          "output_type": "stream",
          "text": [
            "Found 17107 images belonging to 5 classes.\n",
            "Found 4282 images belonging to 5 classes.\n"
          ],
          "name": "stdout"
        }
      ]
    },
    {
      "cell_type": "code",
      "metadata": {
        "id": "mT8P57grqtfh"
      },
      "source": [
        "from keras.callbacks import EarlyStopping\n",
        "from keras.callbacks import ModelCheckpoint\n",
        "es = EarlyStopping(monitor='val_accuracy', mode='max', patience=20)\n",
        "mc = ModelCheckpoint('best_model.h5', monitor='val_accuracy', mode='max', save_best_only=True)"
      ],
      "execution_count": null,
      "outputs": []
    },
    {
      "cell_type": "code",
      "metadata": {
        "id": "i8lO9CJ_qtfh",
        "outputId": "4822d427-01bd-4dcf-bb57-d961548796a1"
      },
      "source": [
        "model.fit_generator(training_set,\n",
        "                    steps_per_epoch = 128,\n",
        "                    epochs = 100,\n",
        "                    validation_data = test_set,\n",
        "                    validation_steps = 70,\n",
        "                    class_weight={0:10,1:5,2:5,3:1,4:5},\n",
        "                    callbacks=[es,mc])\n",
        "\n",
        "from keras.models import load_model\n",
        "saved_model = load_model('best_model.h5')\n",
        "\n",
        "from sklearn.externals import joblib\n",
        "joblib.dump(model, 'Cassava leaf disease classification.joblib')  "
      ],
      "execution_count": null,
      "outputs": [
        {
          "output_type": "stream",
          "text": [
            "WARNING:tensorflow:From C:\\ProgramData\\Anaconda3\\envs\\keras_gpu\\lib\\site-packages\\keras\\backend\\tensorflow_backend.py:422: The name tf.global_variables is deprecated. Please use tf.compat.v1.global_variables instead.\n",
            "\n",
            "Epoch 1/100\n",
            "128/128 [==============================] - 33s 260ms/step - loss: 14.2666 - accuracy: 0.2124 - val_loss: 4.2608 - val_accuracy: 0.1080\n",
            "Epoch 2/100\n",
            "128/128 [==============================] - 32s 251ms/step - loss: 8.5887 - accuracy: 0.2408 - val_loss: 6.6805 - val_accuracy: 0.1143\n",
            "Epoch 3/100\n",
            "128/128 [==============================] - 31s 243ms/step - loss: 5.1666 - accuracy: 0.2471 - val_loss: 6.4112 - val_accuracy: 0.0821\n",
            "Epoch 4/100\n",
            "128/128 [==============================] - 31s 242ms/step - loss: 4.5411 - accuracy: 0.2700 - val_loss: 6.1405 - val_accuracy: 0.0709\n",
            "Epoch 5/100\n",
            "128/128 [==============================] - 28s 217ms/step - loss: 4.4765 - accuracy: 0.2773 - val_loss: 4.5417 - val_accuracy: 0.0571\n",
            "Epoch 6/100\n",
            "128/128 [==============================] - 25s 196ms/step - loss: 4.5934 - accuracy: 0.2417 - val_loss: 2.7881 - val_accuracy: 0.0589\n",
            "Epoch 7/100\n",
            "128/128 [==============================] - 25s 195ms/step - loss: 4.6405 - accuracy: 0.2925 - val_loss: 2.6663 - val_accuracy: 0.0634\n",
            "Epoch 8/100\n",
            "128/128 [==============================] - 25s 193ms/step - loss: 4.5308 - accuracy: 0.2998 - val_loss: 4.4279 - val_accuracy: 0.1221\n",
            "Epoch 9/100\n",
            "128/128 [==============================] - 19s 149ms/step - loss: 4.5403 - accuracy: 0.3047 - val_loss: 2.7023 - val_accuracy: 0.1518\n",
            "Epoch 10/100\n",
            "128/128 [==============================] - 17s 132ms/step - loss: 4.3932 - accuracy: 0.3413 - val_loss: 2.4654 - val_accuracy: 0.0955\n",
            "Epoch 11/100\n",
            "128/128 [==============================] - 17s 136ms/step - loss: 4.5079 - accuracy: 0.3398 - val_loss: 2.4669 - val_accuracy: 0.1741\n",
            "Epoch 12/100\n",
            "128/128 [==============================] - 17s 133ms/step - loss: 4.4300 - accuracy: 0.3376 - val_loss: 2.9225 - val_accuracy: 0.0583\n",
            "Epoch 13/100\n",
            "128/128 [==============================] - 17s 132ms/step - loss: 4.5243 - accuracy: 0.3188 - val_loss: 1.5837 - val_accuracy: 0.2304\n",
            "Epoch 14/100\n",
            "128/128 [==============================] - 18s 141ms/step - loss: 5.3049 - accuracy: 0.2749 - val_loss: 1.6088 - val_accuracy: 0.1330\n",
            "Epoch 15/100\n",
            "128/128 [==============================] - 18s 140ms/step - loss: 6.2019 - accuracy: 0.2559 - val_loss: 3.4125 - val_accuracy: 0.2589\n",
            "Epoch 16/100\n",
            "128/128 [==============================] - 18s 139ms/step - loss: 5.2337 - accuracy: 0.2432 - val_loss: 1.5439 - val_accuracy: 0.3501\n",
            "Epoch 17/100\n",
            "128/128 [==============================] - 17s 134ms/step - loss: 4.6288 - accuracy: 0.2881 - val_loss: 1.6332 - val_accuracy: 0.4286\n",
            "Epoch 18/100\n",
            "128/128 [==============================] - 17s 135ms/step - loss: 5.4181 - accuracy: 0.2703 - val_loss: 1.7445 - val_accuracy: 0.3554\n",
            "Epoch 19/100\n",
            "128/128 [==============================] - 17s 134ms/step - loss: 6.1416 - accuracy: 0.2031 - val_loss: 1.4737 - val_accuracy: 0.2920\n",
            "Epoch 20/100\n",
            "128/128 [==============================] - 17s 135ms/step - loss: 5.7438 - accuracy: 0.3091 - val_loss: 1.6119 - val_accuracy: 0.6355\n",
            "Epoch 21/100\n",
            "128/128 [==============================] - 17s 135ms/step - loss: 4.8549 - accuracy: 0.2754 - val_loss: 36.4191 - val_accuracy: 0.1143\n",
            "Epoch 22/100\n",
            "128/128 [==============================] - 17s 135ms/step - loss: 4.7983 - accuracy: 0.3535 - val_loss: 12.7749 - val_accuracy: 0.1214\n",
            "Epoch 23/100\n",
            "128/128 [==============================] - 17s 137ms/step - loss: 6.3952 - accuracy: 0.3516 - val_loss: 37.6498 - val_accuracy: 0.6014\n",
            "Epoch 24/100\n",
            "128/128 [==============================] - 17s 134ms/step - loss: 5.7232 - accuracy: 0.3301 - val_loss: 5.3107 - val_accuracy: 0.2518\n",
            "Epoch 25/100\n",
            "128/128 [==============================] - 17s 135ms/step - loss: 4.7682 - accuracy: 0.4438 - val_loss: 4.0603 - val_accuracy: 0.1098\n",
            "Epoch 26/100\n",
            "128/128 [==============================] - 18s 138ms/step - loss: 4.7642 - accuracy: 0.4821 - val_loss: 1.6992 - val_accuracy: 0.1616\n",
            "Epoch 27/100\n",
            "128/128 [==============================] - 17s 134ms/step - loss: 5.0171 - accuracy: 0.4688 - val_loss: 3.5206 - val_accuracy: 0.1984\n",
            "Epoch 28/100\n",
            "128/128 [==============================] - 17s 134ms/step - loss: 4.6922 - accuracy: 0.4155 - val_loss: 1.7844 - val_accuracy: 0.2509\n",
            "Epoch 29/100\n",
            "128/128 [==============================] - 17s 137ms/step - loss: 4.7235 - accuracy: 0.4312 - val_loss: 7.1941 - val_accuracy: 0.1446\n",
            "Epoch 30/100\n",
            "128/128 [==============================] - 17s 136ms/step - loss: 4.5902 - accuracy: 0.4502 - val_loss: 14.3133 - val_accuracy: 0.1161\n",
            "Epoch 31/100\n",
            "128/128 [==============================] - 17s 136ms/step - loss: 4.4160 - accuracy: 0.5518 - val_loss: 1.9808 - val_accuracy: 0.1741\n",
            "Epoch 32/100\n",
            "128/128 [==============================] - 17s 134ms/step - loss: 4.4939 - accuracy: 0.5244 - val_loss: 5.3692 - val_accuracy: 0.2018\n",
            "Epoch 33/100\n",
            "128/128 [==============================] - 17s 135ms/step - loss: 4.4400 - accuracy: 0.5317 - val_loss: 5.1114 - val_accuracy: 0.2054\n",
            "Epoch 34/100\n",
            "128/128 [==============================] - 17s 136ms/step - loss: 4.4650 - accuracy: 0.4746 - val_loss: 66.2263 - val_accuracy: 0.1241\n",
            "Epoch 35/100\n",
            "128/128 [==============================] - 17s 134ms/step - loss: 4.7102 - accuracy: 0.4102 - val_loss: 1.5969 - val_accuracy: 0.1661\n",
            "Epoch 36/100\n",
            "128/128 [==============================] - 17s 133ms/step - loss: 4.5418 - accuracy: 0.3494 - val_loss: 1.5758 - val_accuracy: 0.5205\n",
            "Epoch 37/100\n",
            "128/128 [==============================] - 17s 134ms/step - loss: 4.4991 - accuracy: 0.5347 - val_loss: 1.5878 - val_accuracy: 0.5929\n",
            "Epoch 38/100\n",
            "128/128 [==============================] - 18s 137ms/step - loss: 4.3415 - accuracy: 0.5303 - val_loss: 1.8021 - val_accuracy: 0.3125\n",
            "Epoch 39/100\n",
            "128/128 [==============================] - 17s 135ms/step - loss: 4.4087 - accuracy: 0.5049 - val_loss: 1.5150 - val_accuracy: 0.5566\n",
            "Epoch 40/100\n",
            "128/128 [==============================] - 17s 135ms/step - loss: 4.5559 - accuracy: 0.5088 - val_loss: 1.5334 - val_accuracy: 0.5339\n"
          ],
          "name": "stdout"
        },
        {
          "output_type": "stream",
          "text": [
            "C:\\ProgramData\\Anaconda3\\envs\\keras_gpu\\lib\\site-packages\\sklearn\\externals\\joblib\\__init__.py:15: DeprecationWarning: sklearn.externals.joblib is deprecated in 0.21 and will be removed in 0.23. Please import this functionality directly from joblib, which can be installed with: pip install joblib. If this warning is raised when loading pickled models, you may need to re-serialize those models with scikit-learn 0.21+.\n",
            "  warnings.warn(msg, category=DeprecationWarning)\n"
          ],
          "name": "stderr"
        },
        {
          "output_type": "execute_result",
          "data": {
            "text/plain": [
              "['Cassava leaf disease classification.joblib']"
            ]
          },
          "metadata": {
            "tags": []
          },
          "execution_count": 7
        }
      ]
    },
    {
      "cell_type": "code",
      "metadata": {
        "id": "tnjRCineqtfh",
        "outputId": "b0e43ff2-b0b3-4435-edc2-9cb3ea139f1a"
      },
      "source": [
        "import numpy as np\n",
        "import pandas as pd\n",
        "from keras.preprocessing import image\n",
        "test_image = image.load_img('test_images/2216849948.jpg', target_size = (128, 128))\n",
        "test_image = image.img_to_array(test_image)\n",
        "test_image = np.expand_dims(test_image, axis = 0)\n",
        "result = saved_model.predict(test_image)\n",
        "result"
      ],
      "execution_count": null,
      "outputs": [
        {
          "output_type": "execute_result",
          "data": {
            "text/plain": [
              "array([[0.0011404 , 0.07094298, 0.4245762 , 0.46602482, 0.0373156 ]],\n",
              "      dtype=float32)"
            ]
          },
          "metadata": {
            "tags": []
          },
          "execution_count": 8
        }
      ]
    },
    {
      "cell_type": "code",
      "metadata": {
        "id": "Os_b1eygqtfh"
      },
      "source": [
        ""
      ],
      "execution_count": null,
      "outputs": []
    }
  ]
}